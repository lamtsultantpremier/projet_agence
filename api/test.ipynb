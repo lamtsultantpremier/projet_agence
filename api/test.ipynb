{
 "cells": [
  {
   "cell_type": "code",
   "execution_count": null,
   "id": "3d79bee0",
   "metadata": {},
   "outputs": [],
   "source": [
    "a=10\n",
    "print(a)"
   ]
  },
  {
   "cell_type": "code",
   "execution_count": null,
   "id": "e26606ca",
   "metadata": {},
   "outputs": [],
   "source": [
    "from src.database import engine\n",
    "from src.models import Base\n",
    "from src.models import Base\n"
   ]
  },
  {
   "cell_type": "code",
   "execution_count": null,
   "id": "2cba92ae",
   "metadata": {},
   "outputs": [],
   "source": [
    "Base.metadata.drop_all(engine)"
   ]
  },
  {
   "cell_type": "code",
   "execution_count": null,
   "id": "bc1ac759",
   "metadata": {},
   "outputs": [],
   "source": [
    "Base.metadata.create_all(engine)"
   ]
  },
  {
   "cell_type": "code",
   "execution_count": null,
   "id": "6dd8cc7f",
   "metadata": {},
   "outputs": [],
   "source": [
    "Base.metadata.create_all(engine)"
   ]
  },
  {
   "cell_type": "code",
   "execution_count": null,
   "id": "a1f8d37f",
   "metadata": {},
   "outputs": [],
   "source": [
    "from src.schemas import *\n",
    "from src.models import *\n",
    "from src.database import get_db\n",
    "from src.crud.agent_ticket import *\n",
    "all_agents=assign_ticket_to_agent(get_db())\n"
   ]
  },
  {
   "cell_type": "code",
   "execution_count": 6,
   "id": "a3aed60f",
   "metadata": {},
   "outputs": [
    {
     "name": "stdout",
     "output_type": "stream",
     "text": [
      "[Agent(id_agent=1, id_categorie=3, nom='Kone', prenom='Lamine', telephone='0596052787', email='lamt@gmail.com', evenements=Evenement(id=1, id_agent=1, id_ticket=1, id_statut=2, date_enregistrement=datetime.datetime(2025, 5, 30, 7, 17, 50, 400830, tzinfo=datetime.timezone.utc)), categorie=Categorie(id=3, libelle='Transaction', agents=[...], tickets=[Ticket(id=5, motif='Rechargement Internet', id_categorie=3, id_agent=1, id_statut=1, categorie=..., statut=Statut(id=1, libelle='En Attente', tickets=[..., Ticket(id=14, motif='Ramassage', id_categorie=3, id_agent=1, id_statut=1, categorie=..., statut=..., evenements=None)]), evenements=None), Ticket(id=14, motif='Ramassage', id_categorie=3, id_agent=1, id_statut=1, categorie=..., statut=Statut(id=1, libelle='En Attente', tickets=[Ticket(id=5, motif='Rechargement Internet', id_categorie=3, id_agent=1, id_statut=1, categorie=..., statut=..., evenements=None), ...]), evenements=None)]), tickets=[Ticket(id=5, motif='Rechargement Internet', id_categorie=3, id_agent=1, id_statut=1, categorie=Categorie(id=3, libelle='Transaction', agents=[...], tickets=[..., Ticket(id=14, motif='Ramassage', id_categorie=3, id_agent=1, id_statut=1, categorie=..., statut=Statut(id=1, libelle='En Attente', tickets=[..., ...]), evenements=None)]), statut=Statut(id=1, libelle='En Attente', tickets=[..., Ticket(id=14, motif='Ramassage', id_categorie=3, id_agent=1, id_statut=1, categorie=Categorie(id=3, libelle='Transaction', agents=[...], tickets=[..., ...]), statut=..., evenements=None)]), evenements=None), Ticket(id=14, motif='Ramassage', id_categorie=3, id_agent=1, id_statut=1, categorie=Categorie(id=3, libelle='Transaction', agents=[...], tickets=[Ticket(id=5, motif='Rechargement Internet', id_categorie=3, id_agent=1, id_statut=1, categorie=..., statut=Statut(id=1, libelle='En Attente', tickets=[..., ...]), evenements=None), ...]), statut=Statut(id=1, libelle='En Attente', tickets=[Ticket(id=5, motif='Rechargement Internet', id_categorie=3, id_agent=1, id_statut=1, categorie=Categorie(id=3, libelle='Transaction', agents=[...], tickets=[..., ...]), statut=..., evenements=None), ...]), evenements=None)]), Agent(id_agent=2, id_categorie=4, nom='Cissé', prenom='Bakongo', telephone='08975624', email='bakongo@adjame.com', evenements=Evenement(id=4, id_agent=2, id_ticket=1, id_statut=2, date_enregistrement=datetime.datetime(2025, 5, 30, 7, 20, 12, 890760, tzinfo=datetime.timezone.utc)), categorie=Categorie(id=4, libelle='Conseil', agents=[...], tickets=[Ticket(id=1, motif='Achat internet', id_categorie=4, id_agent=2, id_statut=2, categorie=..., statut=Statut(id=2, libelle='En Cours', tickets=[...]), evenements=Evenement(id=1, id_agent=1, id_ticket=1, id_statut=2, date_enregistrement=datetime.datetime(2025, 5, 30, 7, 17, 50, 400830, tzinfo=datetime.timezone.utc))), Ticket(id=2, motif='Achat de Puce', id_categorie=4, id_agent=2, id_statut=3, categorie=..., statut=Statut(id=3, libelle='Terminé', tickets=[...]), evenements=Evenement(id=5, id_agent=2, id_ticket=2, id_statut=3, date_enregistrement=datetime.datetime(2025, 5, 30, 7, 20, 43, 538376, tzinfo=datetime.timezone.utc)))]), tickets=[Ticket(id=1, motif='Achat internet', id_categorie=4, id_agent=2, id_statut=2, categorie=Categorie(id=4, libelle='Conseil', agents=[...], tickets=[..., Ticket(id=2, motif='Achat de Puce', id_categorie=4, id_agent=2, id_statut=3, categorie=..., statut=Statut(id=3, libelle='Terminé', tickets=[...]), evenements=Evenement(id=5, id_agent=2, id_ticket=2, id_statut=3, date_enregistrement=datetime.datetime(2025, 5, 30, 7, 20, 43, 538376, tzinfo=datetime.timezone.utc)))]), statut=Statut(id=2, libelle='En Cours', tickets=[...]), evenements=Evenement(id=1, id_agent=1, id_ticket=1, id_statut=2, date_enregistrement=datetime.datetime(2025, 5, 30, 7, 17, 50, 400830, tzinfo=datetime.timezone.utc))), Ticket(id=2, motif='Achat de Puce', id_categorie=4, id_agent=2, id_statut=3, categorie=Categorie(id=4, libelle='Conseil', agents=[...], tickets=[Ticket(id=1, motif='Achat internet', id_categorie=4, id_agent=2, id_statut=2, categorie=..., statut=Statut(id=2, libelle='En Cours', tickets=[...]), evenements=Evenement(id=1, id_agent=1, id_ticket=1, id_statut=2, date_enregistrement=datetime.datetime(2025, 5, 30, 7, 17, 50, 400830, tzinfo=datetime.timezone.utc))), ...]), statut=Statut(id=3, libelle='Terminé', tickets=[...]), evenements=Evenement(id=5, id_agent=2, id_ticket=2, id_statut=3, date_enregistrement=datetime.datetime(2025, 5, 30, 7, 20, 43, 538376, tzinfo=datetime.timezone.utc)))])]\n"
     ]
    }
   ],
   "source": [
    "print(all_agents)"
   ]
  },
  {
   "cell_type": "code",
   "execution_count": null,
   "id": "718e93f1",
   "metadata": {},
   "outputs": [],
   "source": [
    "from src.schemas import *\n",
    "from src.models import *\n",
    "from src.database import get_db\n",
    "from src.crud import create_agent\n",
    "agent_dict={\"id_categorie\":2,\"nom\":\"kone\",\"prenom\":\"Fatime\",\"telephone\":\"059605897\",\"email\":\"fatime@gmail.com\"}\n",
    "agent_create=AgentCreate(**agent_dict)\n",
    "agent_db=Agent(**agent_create.model_dump())\n",
    "db=get_db()\n",
    "categorie=db.get(Categorie,agent_create.id_categorie)\n",
    "agent_db.categorie=categorie\n",
    "db.add(agent_db)\n",
    "print(agent_db)"
   ]
  },
  {
   "cell_type": "code",
   "execution_count": null,
   "id": "b65ac51a",
   "metadata": {},
   "outputs": [],
   "source": [
    "db.commit()"
   ]
  },
  {
   "cell_type": "code",
   "execution_count": null,
   "id": "6168d523",
   "metadata": {},
   "outputs": [],
   "source": [
    "from src.schemas import *\n",
    "from src.models import *\n",
    "from src.database import get_db\n",
    "from src.crud import create_agent\n",
    "agent_dict={\"id_categorie\":1,\"nom\":\"Vagba\",\"prenom\":\"Belia\",\"telephone\":\"059605897\",\"email\":\"vagba@gmail.com\"}\n",
    "agent_create=AgentCreate(**agent_dict)\n",
    "id_agent=create_agent(get_db(),agent_create)\n",
    "print(id_agent)"
   ]
  },
  {
   "cell_type": "code",
   "execution_count": null,
   "id": "db2078de",
   "metadata": {},
   "outputs": [],
   "source": [
    "from src.crud import *\n",
    "from src.database import *\n",
    "from src.schemas import *\n",
    "from src.models import *\n",
    "from src.database import get_db\n",
    "from src.crud.agent import create_agent,get_agents\n",
    "all_agents=get_agents(get_db())\n",
    "all_agents"
   ]
  },
  {
   "cell_type": "code",
   "execution_count": null,
   "id": "96c37bee",
   "metadata": {},
   "outputs": [],
   "source": [
    "from src.crud import *\n",
    "from src.database import *\n",
    "agent_id=delete_agent(get_db(),1)\n",
    "print(agent_id)"
   ]
  },
  {
   "cell_type": "code",
   "execution_count": null,
   "id": "216f37c2",
   "metadata": {},
   "outputs": [],
   "source": [
    "from src.crud import *\n",
    "from src.database import *"
   ]
  },
  {
   "cell_type": "code",
   "execution_count": null,
   "id": "aad7e1e8",
   "metadata": {},
   "outputs": [],
   "source": [
    "class Person:\n",
    "    def __init__(self,nom):\n",
    "        self.nom=nom"
   ]
  },
  {
   "cell_type": "code",
   "execution_count": null,
   "id": "7aef7777",
   "metadata": {},
   "outputs": [],
   "source": [
    "from src.crud.agent import update_agent,get_agents\n",
    "from src.database import get_db\n",
    "from src.schemas import AgentUpate\n",
    "from src.crud.categorie import create_catgorie,read_categorie,read_categories\n",
    "from src.schemas import CreateCategorie\n",
    "from src.models import Categorie\n",
    "# dict_liste={\"libelle\":\"Traitement\"}\n",
    "# cat=CreateCategorie(**dict_liste)\n",
    "# categorie=Categorie(**cat.model_dump())\n",
    "# id=create_catgorie(cat,get_db())\n",
    "# print(id)\n",
    "\n",
    "# categorie=read_categorie(get_db(),1)\n",
    "# print(categorie)\n",
    "\n",
    "all_act=read_categories(get_db())\n",
    "\n"
   ]
  },
  {
   "cell_type": "code",
   "execution_count": null,
   "id": "b7485fac",
   "metadata": {},
   "outputs": [],
   "source": [
    "print(len(all_act))"
   ]
  },
  {
   "cell_type": "code",
   "execution_count": null,
   "id": "e49e821c",
   "metadata": {},
   "outputs": [],
   "source": [
    "p=Person(\"kone\")\n",
    "p.nom"
   ]
  },
  {
   "cell_type": "code",
   "execution_count": null,
   "id": "8e07c502",
   "metadata": {},
   "outputs": [],
   "source": [
    "setattr(p,\"nom\",\"lamine\")"
   ]
  },
  {
   "cell_type": "code",
   "execution_count": null,
   "id": "3e718c99",
   "metadata": {},
   "outputs": [],
   "source": [
    "p.nom"
   ]
  },
  {
   "cell_type": "code",
   "execution_count": null,
   "id": "7fcfbb16",
   "metadata": {},
   "outputs": [],
   "source": [
    "Base.metadata."
   ]
  },
  {
   "cell_type": "code",
   "execution_count": null,
   "id": "09977ec6",
   "metadata": {},
   "outputs": [],
   "source": [
    "from src.database import engine\n",
    "from src.models import Base\n",
    "Base.metadata.drop_all(engine)"
   ]
  },
  {
   "cell_type": "code",
   "execution_count": null,
   "id": "27211a2b",
   "metadata": {},
   "outputs": [],
   "source": [
    "from src.schemas import *\n",
    "from src.models import *\n",
    "from src.database import *\n",
    "\n",
    "ticket={\"motif\":\"Changement de forfait\",\"id_categorie\":1}\n",
    "ticket_create=CreateTicket(**ticket)\n",
    "ticket_db=Ticket(**ticket_create.model_dump())\n",
    "ticket_db\n",
    "db=get_db()\n",
    "db.add(ticket_db)\n",
    "db.commit()"
   ]
  },
  {
   "cell_type": "code",
   "execution_count": null,
   "id": "2ef765e3",
   "metadata": {},
   "outputs": [],
   "source": [
    "from src.crud import create_agent\n"
   ]
  },
  {
   "cell_type": "code",
   "execution_count": null,
   "id": "feb2097a",
   "metadata": {},
   "outputs": [],
   "source": [
    "from src.schemas import *\n",
    "from src.models import *\n",
    "from src.database import get_db\n",
    "cat_dict={\"libelle\":\"concierge\"}\n",
    "catCreate=CreateCategorie(**cat_dict)\n",
    "cat_db=Categorie(**catCreate.model_dump())\n",
    "db=get_db()\n",
    "db.add(cat_db)\n",
    "db.commit()"
   ]
  },
  {
   "cell_type": "code",
   "execution_count": null,
   "id": "7061541a",
   "metadata": {},
   "outputs": [],
   "source": []
  },
  {
   "cell_type": "code",
   "execution_count": null,
   "id": "d04cf88a",
   "metadata": {},
   "outputs": [],
   "source": [
    "dict_b={cle:value for cle,value in zip(*((\"a\",\"b\"),(1,2)))}\n",
    "dict_b"
   ]
  },
  {
   "cell_type": "code",
   "execution_count": null,
   "id": "4c8b6074",
   "metadata": {},
   "outputs": [],
   "source": [
    "a=[(\"a\",\"b\"),(1,2)]\n",
    "b=zip(*a)\n",
    "print(list(b))"
   ]
  },
  {
   "cell_type": "code",
   "execution_count": null,
   "id": "c8e4a373",
   "metadata": {},
   "outputs": [],
   "source": [
    "no=dict(nom=\"kone\",prenom=\"lamine\")\n",
    "no"
   ]
  },
  {
   "cell_type": "code",
   "execution_count": null,
   "id": "b736f7a9",
   "metadata": {},
   "outputs": [],
   "source": [
    "from src.schemas import *\n",
    "from src.models import *\n",
    "from src.database import get_db\n",
    "from src.crud.categorie import read_categories,create_catgorie\n",
    "\n",
    "id=create_catgorie(CreateCategorie(**{\"libelle\":\"Depannage\"}),get_db())"
   ]
  },
  {
   "cell_type": "code",
   "execution_count": null,
   "id": "73f6e375",
   "metadata": {},
   "outputs": [],
   "source": [
    "print(id)"
   ]
  },
  {
   "cell_type": "code",
   "execution_count": null,
   "id": "8be185d2",
   "metadata": {},
   "outputs": [],
   "source": [
    "from src.crud.categorie import delete_categorie\n",
    "from src.crud.ticket import create_ticket,read_ticket\n",
    "from src.schemas import *\n",
    "from src.models import *\n",
    "from src.database import get_db"
   ]
  },
  {
   "cell_type": "code",
   "execution_count": null,
   "id": "5f95fd8e",
   "metadata": {},
   "outputs": [],
   "source": [
    "from src.crud.agent import *\n",
    "from src.database import get_db\n",
    "tickets=get_tickets(5,get_db())"
   ]
  },
  {
   "cell_type": "code",
   "execution_count": null,
   "id": "a13506c4",
   "metadata": {},
   "outputs": [],
   "source": [
    "print((tickets[0]))"
   ]
  },
  {
   "cell_type": "code",
   "execution_count": null,
   "id": "17e98fe4",
   "metadata": {},
   "outputs": [],
   "source": []
  }
 ],
 "metadata": {
  "kernelspec": {
   "display_name": "projet_agence",
   "language": "python",
   "name": "python3"
  },
  "language_info": {
   "codemirror_mode": {
    "name": "ipython",
    "version": 3
   },
   "file_extension": ".py",
   "mimetype": "text/x-python",
   "name": "python",
   "nbconvert_exporter": "python",
   "pygments_lexer": "ipython3",
   "version": "3.13.0"
  }
 },
 "nbformat": 4,
 "nbformat_minor": 5
}
