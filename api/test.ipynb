{
 "cells": [
  {
   "cell_type": "code",
   "execution_count": null,
   "id": "3d79bee0",
   "metadata": {},
   "outputs": [],
   "source": [
    "a=10\n",
    "print(a)"
   ]
  },
  {
   "cell_type": "code",
   "execution_count": null,
   "id": "e26606ca",
   "metadata": {},
   "outputs": [],
   "source": [
    "from src.database import engine\n",
    "from src.models import Base\n",
    "Base.metadata.drop_all(engine)"
   ]
  },
  {
   "cell_type": "code",
   "execution_count": null,
   "id": "6dd8cc7f",
   "metadata": {},
   "outputs": [],
   "source": [
    "Base.metadata.create_all(engine)"
   ]
  },
  {
   "cell_type": "code",
   "execution_count": null,
   "id": "a1f8d37f",
   "metadata": {},
   "outputs": [],
   "source": [
    "from src.schemas import *\n",
    "from src.models import *\n",
    "from src.database import get_db\n",
    "payload={\"libelle\":\"Recherche de servante\"}\n",
    "statutValidate=CreateStatut(**payload)\n",
    "statut=Statut(**statutValidate.model_dump())\n",
    "print((statut))\n",
    "# db=get_db()\n",
    "# db.add(statut)\n",
    "# db.commit()\n",
    "# db.close()\n"
   ]
  },
  {
   "cell_type": "code",
   "execution_count": null,
   "id": "718e93f1",
   "metadata": {},
   "outputs": [],
   "source": [
    "from src.schemas import *\n",
    "from src.models import *\n",
    "from src.database import get_db\n",
    "from src.crud import create_agent\n",
    "agent_dict={\"id_categorie\":2,\"nom\":\"kone\",\"prenom\":\"Fatime\",\"telephone\":\"059605897\",\"email\":\"fatime@gmail.com\"}\n",
    "agent_create=AgentCreate(**agent_dict)\n",
    "agent_db=Agent(**agent_create.model_dump())\n",
    "db=get_db()\n",
    "categorie=db.get(Categorie,agent_create.id_categorie)\n",
    "agent_db.categorie=categorie\n",
    "db.add(agent_db)\n",
    "print(agent_db)"
   ]
  },
  {
   "cell_type": "code",
   "execution_count": null,
   "id": "b65ac51a",
   "metadata": {},
   "outputs": [],
   "source": [
    "db.commit()"
   ]
  },
  {
   "cell_type": "code",
   "execution_count": null,
   "id": "6168d523",
   "metadata": {},
   "outputs": [],
   "source": [
    "from src.schemas import *\n",
    "from src.models import *\n",
    "from src.database import get_db\n",
    "from src.crud import create_agent\n",
    "agent_dict={\"id_categorie\":1,\"nom\":\"Vagba\",\"prenom\":\"Belia\",\"telephone\":\"059605897\",\"email\":\"vagba@gmail.com\"}\n",
    "agent_create=AgentCreate(**agent_dict)\n",
    "id_agent=create_agent(get_db(),agent_create)\n",
    "print(id_agent)"
   ]
  },
  {
   "cell_type": "code",
   "execution_count": null,
   "id": "db2078de",
   "metadata": {},
   "outputs": [],
   "source": [
    "from src.crud import *\n",
    "from src.database import *\n",
    "all_agents=get_agents(get_db())\n",
    "all_agents"
   ]
  },
  {
   "cell_type": "code",
   "execution_count": null,
   "id": "96c37bee",
   "metadata": {},
   "outputs": [],
   "source": [
    "from src.crud import *\n",
    "from src.database import *\n",
    "agent_id=delete_agent(get_db(),1)\n",
    "print(agent_id)"
   ]
  },
  {
   "cell_type": "code",
   "execution_count": null,
   "id": "216f37c2",
   "metadata": {},
   "outputs": [],
   "source": [
    "from src.crud import *\n",
    "from src.database import *"
   ]
  },
  {
   "cell_type": "code",
   "execution_count": null,
   "id": "aad7e1e8",
   "metadata": {},
   "outputs": [],
   "source": [
    "class Person:\n",
    "    def __init__(self,nom):\n",
    "        self.nom=nom"
   ]
  },
  {
   "cell_type": "code",
   "execution_count": 1,
   "id": "7aef7777",
   "metadata": {},
   "outputs": [
    {
     "ename": "ValidationError",
     "evalue": "1 validation error for AgentUpate\nid_categorie\n  Field required [type=missing, input_value={'nom': 'kone', 'email': 'lamine@gmail.com'}, input_type=dict]\n    For further information visit https://errors.pydantic.dev/2.11/v/missing",
     "output_type": "error",
     "traceback": [
      "\u001b[31m---------------------------------------------------------------------------\u001b[39m",
      "\u001b[31mValidationError\u001b[39m                           Traceback (most recent call last)",
      "\u001b[36mCell\u001b[39m\u001b[36m \u001b[39m\u001b[32mIn[1]\u001b[39m\u001b[32m, line 4\u001b[39m\n\u001b[32m      2\u001b[39m \u001b[38;5;28;01mfrom\u001b[39;00m\u001b[38;5;250m \u001b[39m\u001b[34;01msrc\u001b[39;00m\u001b[34;01m.\u001b[39;00m\u001b[34;01mdatabase\u001b[39;00m\u001b[38;5;250m \u001b[39m\u001b[38;5;28;01mimport\u001b[39;00m get_db\n\u001b[32m      3\u001b[39m \u001b[38;5;28;01mfrom\u001b[39;00m\u001b[38;5;250m \u001b[39m\u001b[34;01msrc\u001b[39;00m\u001b[34;01m.\u001b[39;00m\u001b[34;01mschemas\u001b[39;00m\u001b[38;5;250m \u001b[39m\u001b[38;5;28;01mimport\u001b[39;00m AgentUpate\n\u001b[32m----> \u001b[39m\u001b[32m4\u001b[39m id_agent=update_agent(get_db(),\u001b[32m4\u001b[39m,\u001b[43mAgentUpate\u001b[49m\u001b[43m(\u001b[49m\u001b[43mnom\u001b[49m\u001b[43m=\u001b[49m\u001b[33;43m\"\u001b[39;49m\u001b[33;43mkone\u001b[39;49m\u001b[33;43m\"\u001b[39;49m\u001b[43m,\u001b[49m\u001b[43memail\u001b[49m\u001b[43m=\u001b[49m\u001b[33;43m\"\u001b[39;49m\u001b[33;43mlamine@gmail.com\u001b[39;49m\u001b[33;43m\"\u001b[39;49m\u001b[43m)\u001b[49m)\n\u001b[32m      5\u001b[39m \u001b[38;5;28mprint\u001b[39m(id_agent)\n",
      "\u001b[36mFile \u001b[39m\u001b[32mc:\\Users\\HP\\Desktop\\AI\\GENAI\\PROJET FORMATION\\Projet_application_gestion_agence\\gestion_agence\\projet_agence\\Lib\\site-packages\\pydantic\\main.py:253\u001b[39m, in \u001b[36mBaseModel.__init__\u001b[39m\u001b[34m(self, **data)\u001b[39m\n\u001b[32m    251\u001b[39m \u001b[38;5;66;03m# `__tracebackhide__` tells pytest and some other tools to omit this function from tracebacks\u001b[39;00m\n\u001b[32m    252\u001b[39m __tracebackhide__ = \u001b[38;5;28;01mTrue\u001b[39;00m\n\u001b[32m--> \u001b[39m\u001b[32m253\u001b[39m validated_self = \u001b[38;5;28;43mself\u001b[39;49m\u001b[43m.\u001b[49m\u001b[43m__pydantic_validator__\u001b[49m\u001b[43m.\u001b[49m\u001b[43mvalidate_python\u001b[49m\u001b[43m(\u001b[49m\u001b[43mdata\u001b[49m\u001b[43m,\u001b[49m\u001b[43m \u001b[49m\u001b[43mself_instance\u001b[49m\u001b[43m=\u001b[49m\u001b[38;5;28;43mself\u001b[39;49m\u001b[43m)\u001b[49m\n\u001b[32m    254\u001b[39m \u001b[38;5;28;01mif\u001b[39;00m \u001b[38;5;28mself\u001b[39m \u001b[38;5;129;01mis\u001b[39;00m \u001b[38;5;129;01mnot\u001b[39;00m validated_self:\n\u001b[32m    255\u001b[39m     warnings.warn(\n\u001b[32m    256\u001b[39m         \u001b[33m'\u001b[39m\u001b[33mA custom validator is returning a value other than `self`.\u001b[39m\u001b[38;5;130;01m\\n\u001b[39;00m\u001b[33m'\u001b[39m\n\u001b[32m    257\u001b[39m         \u001b[33m\"\u001b[39m\u001b[33mReturning anything other than `self` from a top level model validator isn\u001b[39m\u001b[33m'\u001b[39m\u001b[33mt supported when validating via `__init__`.\u001b[39m\u001b[38;5;130;01m\\n\u001b[39;00m\u001b[33m\"\u001b[39m\n\u001b[32m    258\u001b[39m         \u001b[33m'\u001b[39m\u001b[33mSee the `model_validator` docs (https://docs.pydantic.dev/latest/concepts/validators/#model-validators) for more details.\u001b[39m\u001b[33m'\u001b[39m,\n\u001b[32m    259\u001b[39m         stacklevel=\u001b[32m2\u001b[39m,\n\u001b[32m    260\u001b[39m     )\n",
      "\u001b[31mValidationError\u001b[39m: 1 validation error for AgentUpate\nid_categorie\n  Field required [type=missing, input_value={'nom': 'kone', 'email': 'lamine@gmail.com'}, input_type=dict]\n    For further information visit https://errors.pydantic.dev/2.11/v/missing"
     ]
    }
   ],
   "source": [
    "from src.crud import update_agent\n",
    "from src.database import get_db\n",
    "from src.schemas import AgentUpate\n",
    "id_agent=update_agent(get_db(),4,AgentUpate(nom=\"kone\",email=\"lamine@gmail.com\"))\n",
    "print(id_agent)"
   ]
  },
  {
   "cell_type": "code",
   "execution_count": null,
   "id": "e49e821c",
   "metadata": {},
   "outputs": [],
   "source": [
    "p=Person(\"kone\")\n",
    "p.nom"
   ]
  },
  {
   "cell_type": "code",
   "execution_count": null,
   "id": "8e07c502",
   "metadata": {},
   "outputs": [],
   "source": [
    "setattr(p,\"nom\",\"lamine\")"
   ]
  },
  {
   "cell_type": "code",
   "execution_count": null,
   "id": "3e718c99",
   "metadata": {},
   "outputs": [],
   "source": [
    "p.nom"
   ]
  },
  {
   "cell_type": "code",
   "execution_count": null,
   "id": "baacaa98",
   "metadata": {},
   "outputs": [],
   "source": [
    "print(all_users[0].categorie.libelle)"
   ]
  },
  {
   "cell_type": "code",
   "execution_count": null,
   "id": "7fcfbb16",
   "metadata": {},
   "outputs": [],
   "source": [
    "Base.metadata.create_all(engine)"
   ]
  },
  {
   "cell_type": "code",
   "execution_count": null,
   "id": "09977ec6",
   "metadata": {},
   "outputs": [],
   "source": [
    "from src.database import engine\n",
    "from src.models import Base\n",
    "Base.metadata.drop_all(engine)"
   ]
  },
  {
   "cell_type": "code",
   "execution_count": null,
   "id": "27211a2b",
   "metadata": {},
   "outputs": [],
   "source": [
    "from src.schemas import *\n",
    "from src.models import *\n",
    "from src.database import *\n",
    "\n",
    "ticket={\"motif\":\"Changement de forfait\",\"id_categorie\":1}\n",
    "ticket_create=CreateTicket(**ticket)\n",
    "ticket_db=Ticket(**ticket_create.model_dump())\n",
    "ticket_db\n",
    "db=get_db()\n",
    "db.add(ticket_db)\n",
    "db.commit()"
   ]
  },
  {
   "cell_type": "code",
   "execution_count": null,
   "id": "2ef765e3",
   "metadata": {},
   "outputs": [],
   "source": [
    "from src.crud import create_agent\n"
   ]
  },
  {
   "cell_type": "code",
   "execution_count": null,
   "id": "feb2097a",
   "metadata": {},
   "outputs": [],
   "source": [
    "from src.schemas import *\n",
    "from src.models import *\n",
    "from src.database import get_db\n",
    "cat_dict={\"libelle\":\"concierge\"}\n",
    "catCreate=CreateCategorie(**cat_dict)\n",
    "cat_db=Categorie(**catCreate.model_dump())\n",
    "db=get_db()\n",
    "db.add(cat_db)\n",
    "db.commit()"
   ]
  },
  {
   "cell_type": "code",
   "execution_count": null,
   "id": "7061541a",
   "metadata": {},
   "outputs": [],
   "source": []
  },
  {
   "cell_type": "code",
   "execution_count": null,
   "id": "d04cf88a",
   "metadata": {},
   "outputs": [],
   "source": [
    "dict_b={cle:value for cle,value in zip(*((\"a\",\"b\"),(1,2)))}\n",
    "dict_b"
   ]
  },
  {
   "cell_type": "code",
   "execution_count": null,
   "id": "4c8b6074",
   "metadata": {},
   "outputs": [],
   "source": [
    "a=[(\"a\",\"b\"),(1,2)]\n",
    "b=zip(*a)\n",
    "print(list(b))"
   ]
  },
  {
   "cell_type": "code",
   "execution_count": null,
   "id": "c8e4a373",
   "metadata": {},
   "outputs": [],
   "source": [
    "no=dict(nom=\"kone\",prenom=\"lamine\")\n",
    "no"
   ]
  },
  {
   "cell_type": "code",
   "execution_count": null,
   "id": "b736f7a9",
   "metadata": {},
   "outputs": [],
   "source": []
  }
 ],
 "metadata": {
  "kernelspec": {
   "display_name": "projet_agence",
   "language": "python",
   "name": "python3"
  },
  "language_info": {
   "codemirror_mode": {
    "name": "ipython",
    "version": 3
   },
   "file_extension": ".py",
   "mimetype": "text/x-python",
   "name": "python",
   "nbconvert_exporter": "python",
   "pygments_lexer": "ipython3",
   "version": "3.13.0"
  }
 },
 "nbformat": 4,
 "nbformat_minor": 5
}
